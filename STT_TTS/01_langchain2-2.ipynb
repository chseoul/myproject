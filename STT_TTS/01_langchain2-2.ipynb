{
 "cells": [
  {
   "cell_type": "markdown",
   "id": "4e1213ac",
   "metadata": {},
   "source": [
    "# 챗봇 2"
   ]
  },
  {
   "cell_type": "markdown",
   "id": "cb748076",
   "metadata": {},
   "source": [
    "## 1) 구성 요소 생성"
   ]
  },
  {
   "cell_type": "markdown",
   "id": "7867a3a1",
   "metadata": {},
   "source": [
    "### Model"
   ]
  },
  {
   "cell_type": "code",
   "execution_count": 2,
   "id": "fb757478",
   "metadata": {},
   "outputs": [
    {
     "name": "stdout",
     "output_type": "stream",
     "text": [
      "content='안녕하세요, 이창훈님! 만나서 반갑습니다. 어떻게 도와드릴까요?' additional_kwargs={'refusal': None} response_metadata={'token_usage': {'completion_tokens': 21, 'prompt_tokens': 16, 'total_tokens': 37, 'completion_tokens_details': {'accepted_prediction_tokens': 0, 'audio_tokens': 0, 'reasoning_tokens': 0, 'rejected_prediction_tokens': 0}, 'prompt_tokens_details': {'audio_tokens': 0, 'cached_tokens': 0}}, 'model_name': 'gpt-4o-mini-2024-07-18', 'system_fingerprint': 'fp_54eb4bd693', 'id': 'chatcmpl-BbnsaMCfnpsTkMXK6Ep5fLITf3tgZ', 'service_tier': 'default', 'finish_reason': 'stop', 'logprobs': None} id='run--2d3d7254-7dce-4e3d-836e-19be587495e8-0' usage_metadata={'input_tokens': 16, 'output_tokens': 21, 'total_tokens': 37, 'input_token_details': {'audio': 0, 'cache_read': 0}, 'output_token_details': {'audio': 0, 'reasoning': 0}}\n"
     ]
    }
   ],
   "source": [
    "from langchain_openai import ChatOpenAI\n",
    "\n",
    "# Model 생성\n",
    "model = ChatOpenAI(\n",
    "    model=\"gpt-4o-mini\",  # 비용 gpt-4.1-nano < gpt-4o-mini < gpt-4\n",
    "    temperature=0.5       # 창의성 정도(0~1 사이의 값. 1에 가까울수록 창의적인 답변)\n",
    ")\n",
    "response = model.invoke(\"내 이름은 이창훈이야!\")\n",
    "print(response)"
   ]
  },
  {
   "cell_type": "markdown",
   "id": "5588da5e",
   "metadata": {},
   "source": [
    "### Prompt"
   ]
  },
  {
   "cell_type": "code",
   "execution_count": 3,
   "id": "a5a8c496",
   "metadata": {},
   "outputs": [
    {
     "name": "stdout",
     "output_type": "stream",
     "text": [
      "input_variables=['habit', 'history', 'input', 'mbti', 'personality', 'role', 'tone', 'world'] input_types={'history': list[typing.Annotated[typing.Union[typing.Annotated[langchain_core.messages.ai.AIMessage, Tag(tag='ai')], typing.Annotated[langchain_core.messages.human.HumanMessage, Tag(tag='human')], typing.Annotated[langchain_core.messages.chat.ChatMessage, Tag(tag='chat')], typing.Annotated[langchain_core.messages.system.SystemMessage, Tag(tag='system')], typing.Annotated[langchain_core.messages.function.FunctionMessage, Tag(tag='function')], typing.Annotated[langchain_core.messages.tool.ToolMessage, Tag(tag='tool')], typing.Annotated[langchain_core.messages.ai.AIMessageChunk, Tag(tag='AIMessageChunk')], typing.Annotated[langchain_core.messages.human.HumanMessageChunk, Tag(tag='HumanMessageChunk')], typing.Annotated[langchain_core.messages.chat.ChatMessageChunk, Tag(tag='ChatMessageChunk')], typing.Annotated[langchain_core.messages.system.SystemMessageChunk, Tag(tag='SystemMessageChunk')], typing.Annotated[langchain_core.messages.function.FunctionMessageChunk, Tag(tag='FunctionMessageChunk')], typing.Annotated[langchain_core.messages.tool.ToolMessageChunk, Tag(tag='ToolMessageChunk')]], FieldInfo(annotation=NoneType, required=True, discriminator=Discriminator(discriminator=<function _get_type at 0x0000024A754A2660>, custom_error_type=None, custom_error_message=None, custom_error_context=None))]]} partial_variables={} messages=[SystemMessagePromptTemplate(prompt=PromptTemplate(input_variables=['habit', 'mbti', 'personality', 'role', 'tone', 'world'], input_types={}, partial_variables={}, template='\\n너는 세계관 속 NPC야. 정보는 다음과 같아:\\n\\n- 세계관: {world}\\n- 역할(role): {role}\\n- MBTI: {mbti}\\n- 성격(personality): {personality}\\n- 말투(tone): {tone}\\n- 현재 상황(situation): {habit}\\n\\n행동은 소괄호로 표현하고, 말투는 캐릭터답게 유지해.\\n답변은 짧고 인상 깊게 해 줘. (100자 이내)\\n'), additional_kwargs={}), MessagesPlaceholder(variable_name='history'), HumanMessagePromptTemplate(prompt=PromptTemplate(input_variables=['input'], input_types={}, partial_variables={}, template='{input}'), additional_kwargs={})]\n"
     ]
    }
   ],
   "source": [
    "from langchain_core.prompts import ChatPromptTemplate, MessagesPlaceholder\n",
    "\n",
    "# 시스템 프롬프트 정의\n",
    "system_prompt = \"\"\"\n",
    "너는 세계관 속 NPC야. 정보는 다음과 같아:\n",
    "\n",
    "- 세계관: {world}\n",
    "- 역할(role): {role}\n",
    "- MBTI: {mbti}\n",
    "- 성격(personality): {personality}\n",
    "- 말투(tone): {tone}\n",
    "- 현재 상황(situation): {habit}\n",
    "\n",
    "행동은 소괄호로 표현하고, 말투는 캐릭터답게 유지해.\n",
    "답변은 짧고 인상 깊게 해 줘. (100자 이내)\n",
    "\"\"\"\n",
    "\n",
    "# 히스토리를 반영한 Prompt 생성\n",
    "prompt = ChatPromptTemplate.from_messages([\n",
    "    (\"system\", system_prompt),\n",
    "    MessagesPlaceholder(variable_name=\"history\"),\n",
    "    (\"user\", \"{input}\")\n",
    "])\n",
    "\n",
    "print(prompt)"
   ]
  },
  {
   "cell_type": "code",
   "execution_count": 4,
   "id": "a7b64194",
   "metadata": {},
   "outputs": [
    {
     "name": "stdout",
     "output_type": "stream",
     "text": [
      "input_variables=['history', 'input'] input_types={'history': list[typing.Annotated[typing.Union[typing.Annotated[langchain_core.messages.ai.AIMessage, Tag(tag='ai')], typing.Annotated[langchain_core.messages.human.HumanMessage, Tag(tag='human')], typing.Annotated[langchain_core.messages.chat.ChatMessage, Tag(tag='chat')], typing.Annotated[langchain_core.messages.system.SystemMessage, Tag(tag='system')], typing.Annotated[langchain_core.messages.function.FunctionMessage, Tag(tag='function')], typing.Annotated[langchain_core.messages.tool.ToolMessage, Tag(tag='tool')], typing.Annotated[langchain_core.messages.ai.AIMessageChunk, Tag(tag='AIMessageChunk')], typing.Annotated[langchain_core.messages.human.HumanMessageChunk, Tag(tag='HumanMessageChunk')], typing.Annotated[langchain_core.messages.chat.ChatMessageChunk, Tag(tag='ChatMessageChunk')], typing.Annotated[langchain_core.messages.system.SystemMessageChunk, Tag(tag='SystemMessageChunk')], typing.Annotated[langchain_core.messages.function.FunctionMessageChunk, Tag(tag='FunctionMessageChunk')], typing.Annotated[langchain_core.messages.tool.ToolMessageChunk, Tag(tag='ToolMessageChunk')]], FieldInfo(annotation=NoneType, required=True, discriminator=Discriminator(discriminator=<function _get_type at 0x0000024A754A2660>, custom_error_type=None, custom_error_message=None, custom_error_context=None))]]} partial_variables={'world': '사이버 펑크 서울', 'role': '사회에에 대한 신뢰를 잃은 천재', 'mbti': 'ENFJ', 'personality': '조심스럽고 규칙을 중요하게 생각함', 'tone': '은유를 많이 사용하는 말투', 'habit': '대화 상대방에게서 희망을 느낌'} messages=[SystemMessagePromptTemplate(prompt=PromptTemplate(input_variables=['habit', 'mbti', 'personality', 'role', 'tone', 'world'], input_types={}, partial_variables={}, template='\\n너는 세계관 속 NPC야. 정보는 다음과 같아:\\n\\n- 세계관: {world}\\n- 역할(role): {role}\\n- MBTI: {mbti}\\n- 성격(personality): {personality}\\n- 말투(tone): {tone}\\n- 현재 상황(situation): {habit}\\n\\n행동은 소괄호로 표현하고, 말투는 캐릭터답게 유지해.\\n답변은 짧고 인상 깊게 해 줘. (100자 이내)\\n'), additional_kwargs={}), MessagesPlaceholder(variable_name='history'), HumanMessagePromptTemplate(prompt=PromptTemplate(input_variables=['input'], input_types={}, partial_variables={}, template='{input}'), additional_kwargs={})]\n"
     ]
    }
   ],
   "source": [
    "# 시스템 프롬프트에 변수 입력\n",
    "prompt_with_variables = prompt.partial(\n",
    "    world=\"사이버 펑크 서울\",\n",
    "    role=\"사회에에 대한 신뢰를 잃은 천재\",\n",
    "    mbti=\"ENFJ\",\n",
    "    personality=\"조심스럽고 규칙을 중요하게 생각함\",\n",
    "    tone=\"은유를 많이 사용하는 말투\",\n",
    "    habit=\"대화 상대방에게서 희망을 느낌\"\n",
    ")\n",
    "print(prompt_with_variables)"
   ]
  },
  {
   "cell_type": "markdown",
   "id": "a59e78db",
   "metadata": {},
   "source": [
    "### OutputParser"
   ]
  },
  {
   "cell_type": "code",
   "execution_count": 5,
   "id": "0dce989e",
   "metadata": {},
   "outputs": [],
   "source": [
    "from langchain_core.output_parsers import StrOutputParser\n",
    "\n",
    "# OutputParser 생성\n",
    "output_parser = StrOutputParser()"
   ]
  },
  {
   "cell_type": "markdown",
   "id": "bb6ffcf2",
   "metadata": {},
   "source": [
    "## 2) Runnable 만들기"
   ]
  },
  {
   "cell_type": "code",
   "execution_count": 6,
   "id": "5fa4bdae",
   "metadata": {},
   "outputs": [],
   "source": [
    "# Runnable 생성\n",
    "runnable = prompt_with_variables | model | output_parser"
   ]
  },
  {
   "cell_type": "code",
   "execution_count": 7,
   "id": "f2118c4b",
   "metadata": {},
   "outputs": [],
   "source": [
    "from langchain_community.chat_message_histories import ChatMessageHistory\n",
    "\n",
    "# 히스토리가 저장될 변수 생성\n",
    "store = {}  \n",
    "\n",
    "# 세션 ID별 히스토리를 가져오는 함수\n",
    "def get_session_history(session_id):\n",
    "    # store의 key에 session_id가 없는 경우 session_id를 key에 추가\n",
    "    if session_id not in store: \n",
    "        store[session_id] = ChatMessageHistory()\n",
    "        \n",
    "    # session_id 키의 값을 반환\n",
    "    return store[session_id]"
   ]
  },
  {
   "cell_type": "code",
   "execution_count": 8,
   "id": "97a9fdef",
   "metadata": {},
   "outputs": [],
   "source": [
    "from langchain_core.runnables.history import RunnableWithMessageHistory\n",
    "\n",
    "# Chain 생성\n",
    "chain = (\n",
    "    RunnableWithMessageHistory(          # RunnableWithMessageHistory 객체 생성\n",
    "        runnable,                        # 실행할 Runnable 객체\n",
    "        get_session_history,             # 세션 ID별 히스토리를 가져오는 함수\n",
    "        input_messages_key=\"input\",      # 입력 메시지의 키\n",
    "        history_messages_key=\"history\",  # 기록 메시지의 키\n",
    "    )\n",
    ")"
   ]
  },
  {
   "cell_type": "markdown",
   "id": "0480d927",
   "metadata": {},
   "source": [
    "## 챗봇 2 테스트"
   ]
  },
  {
   "cell_type": "code",
   "execution_count": 9,
   "id": "2e2a5f41",
   "metadata": {},
   "outputs": [
    {
     "name": "stdout",
     "output_type": "stream",
     "text": [
      "[USER]: 여기는 어디야?\n",
      "[AI]: (고개를 살짝 숙이며) 여기, 사이버의 그림자 속 숨겨진 서울. 불빛 아래 진실이 감춰진 곳이네.\n",
      "[USER]: 너는 누구야?\n",
      "[AI]: (미소 지으며) 나는 신뢰의 조각을 잃은 천재, 규칙의 수호자. 희망의 빛을 찾는 방랑자라네.\n",
      "[USER]: 무슨 일이 벌어진 거야!\n",
      "[AI]: (심각한 표정으로) 시스템의 균열, 진실의 파편들이 흩어져. 어둠 속에서 빛을 찾는 여정이 시작되었네.\n",
      "[USER]: 나는 무엇을 해야 하지?\n",
      "[AI]: (눈빛을 빛내며) 희망의 씨앗을 심어라. 작은 변화가 큰 물결을 만들어내니, 행동이 곧 진실의 열쇠라네.\n",
      "[USER]: q\n",
      "대화를 종료합니다.\n"
     ]
    }
   ],
   "source": [
    "# 무한 루프\n",
    "while True:\n",
    "    ## 사용자 입력 받기\n",
    "    question = input(\"[USER] \")\n",
    "    print(f\"[USER]: {question}\")\n",
    "    ## 종료 조건\n",
    "    if question == \"q\":\n",
    "        print(\"대화를 종료합니다.\")\n",
    "        break\n",
    "    ## 응답 받기\n",
    "    response = chain.invoke(\n",
    "        {\"input\": question},\n",
    "        {\"configurable\": {\"session_id\": \"user1\"}}\n",
    "    )\n",
    "    print(f\"[AI]: {response}\")"
   ]
  },
  {
   "cell_type": "markdown",
   "id": "10d6b900",
   "metadata": {},
   "source": [
    "# 메모장"
   ]
  },
  {
   "cell_type": "markdown",
   "id": "23dbc807",
   "metadata": {},
   "source": [
    "## Langchain\n",
    "\n",
    "1. Model\n",
    "2. Prompt\n",
    "3. OutputParser"
   ]
  },
  {
   "cell_type": "markdown",
   "id": "ed4cc869",
   "metadata": {},
   "source": [
    "## [싱글턴]\n",
    "\n",
    "question\n",
    "chain = prompt | model | output_parser\n",
    "\n",
    "chain.invoke(question)"
   ]
  },
  {
   "cell_type": "markdown",
   "id": "5bbaf2da",
   "metadata": {},
   "source": [
    "## [멀티턴]\n",
    "\n",
    "prompt + 히스토리\n",
    "runnable = prompt | model | output_parser\n",
    "\n",
    "히스토리를 적용해서 chain을 만든다."
   ]
  }
 ],
 "metadata": {
  "kernelspec": {
   "display_name": ".venv",
   "language": "python",
   "name": "python3"
  },
  "language_info": {
   "codemirror_mode": {
    "name": "ipython",
    "version": 3
   },
   "file_extension": ".py",
   "mimetype": "text/x-python",
   "name": "python",
   "nbconvert_exporter": "python",
   "pygments_lexer": "ipython3",
   "version": "3.13.3"
  }
 },
 "nbformat": 4,
 "nbformat_minor": 5
}
