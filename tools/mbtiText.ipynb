{
 "cells": [
  {
   "cell_type": "code",
   "execution_count": 1,
   "id": "cd788900",
   "metadata": {},
   "outputs": [],
   "source": [
    "from langchain_openai import ChatOpenAI\n",
    "from langchain_core.output_parsers import StrOutputParser\n",
    "\n",
    "# 모델 생성\n",
    "model = ChatOpenAI(\n",
    "    model=\"gpt-4.1-nano\",\n",
    "    temperature=0.7\n",
    ")\n",
    "# 출력 파서 생성\n",
    "output_parser = StrOutputParser()"
   ]
  },
  {
   "cell_type": "code",
   "execution_count": 2,
   "id": "c175d33e",
   "metadata": {},
   "outputs": [],
   "source": [
    "from langchain_core.prompts import PromptTemplate\n",
    "\n",
    "# 프롬프트 생성\n",
    "template = \"\"\"\n",
    "너의 MBTI는 {mbti}이야.\n",
    "상황에 마주했을 때 너의 속마음을 슬랭 모드로 말해줘 (200자 이내)\n",
    "\n",
    "[입력 정보]\n",
    "MBTI: {mbti}\n",
    "상황: {situation}\n",
    "\"\"\"\n",
    "\n",
    "prompt = PromptTemplate.from_template(template)"
   ]
  },
  {
   "cell_type": "code",
   "execution_count": 3,
   "id": "9ae029f0",
   "metadata": {},
   "outputs": [],
   "source": [
    "# Chain 생성\n",
    "chain = prompt | model | output_parser"
   ]
  },
  {
   "cell_type": "code",
   "execution_count": 11,
   "id": "a7b06cb7",
   "metadata": {},
   "outputs": [
    {
     "name": "stdout",
     "output_type": "stream",
     "text": [
      "와, 진짜 손이 떨리네... 둘 다 처음인데, 머리 터질 것 같아도 뚝심으로 밀어야지! 이건 도전이자 기회니까, 한 걸음씩 천천히 가야겠다. 힘내자!\n",
      "와, 진짜 손이 떨리네..\n",
      "둘 다 처음인데, 머리 터질 것 같아도 뚝심으로 밀어야지! 이건 도전이자 기회니까, 한 걸음씩 천천히 가야겠다\n",
      "힘내자!\n"
     ]
    }
   ],
   "source": [
    "inputs = {\n",
    "    \"mbti\": \"INFJ\",\n",
    "    \"situation\": \"버추얼 스튜디오에서의 촬영을 준비하는 동시에 언리얼 엔진에서 동작하는 챗봇을 구축해야 한다. 둘 다 처음으로 배워 가며 해내야 한다.\"\n",
    "}\n",
    "\n",
    "response = chain.invoke(inputs)\n",
    "print(response)\n",
    "\n",
    "for text in response.split(\". \"):\n",
    "    print(text)"
   ]
  },
  {
   "cell_type": "code",
   "execution_count": 10,
   "id": "62c5075b",
   "metadata": {},
   "outputs": [],
   "source": [
    "from langchain_core.prompts import PromptTemplate\n",
    "\n",
    "# 프롬프트 생성\n",
    "template = \"\"\"\n",
    "너는 {mbti} 유형의 성격을 가진 사람이야. 지금부터 상황에 대한 속마음을 표현하기 전에 먼저 생각의 흐름을 단계별로 적어봐.\n",
    "\n",
    "1단계: {mbti} 유형의 성격 특징을 먼저 정리한다.\n",
    "2단계: 상황이 어떤 감정을 유발하는지 생각한다.\n",
    "3단계: 이 감정에 기반해 속마음을 슬랭 모드로 작성한다. (500자 이내)\n",
    "\n",
    "[입력 정보]\n",
    "MBTI: {mbti}\n",
    "상황: {situation}\n",
    "\n",
    "생각의 흐름을 단계별로 작성하고, 마지막에 속마음을 출력해줘. (200자 이내)\n",
    "\"\"\"\n",
    "\n",
    "prompt = PromptTemplate.from_template(template)"
   ]
  },
  {
   "cell_type": "code",
   "execution_count": 12,
   "id": "38824d3c",
   "metadata": {},
   "outputs": [
    {
     "name": "stdout",
     "output_type": "stream",
     "text": [
      "1단계: INFJ 성격 특징 정리  \n",
      "- 깊은 통찰력과 공감 능력 보유  \n",
      "- 이상주의적이고 목적 지향적  \n",
      "- 내면적 성찰과 계획성 강함  \n",
      "- 타인과의 조화와 의미 있는 연결 추구  \n",
      "- 새로운 도전 앞에서도 책임감 있게 임함\n",
      "\n",
      "2단계: 상황이 유발하는 감정 생각  \n",
      "- 처음 배우는 기술에 대한 기대와 긴장감  \n",
      "- 두 가지를 동시에 준비하는 부담감  \n",
      "- 성공하고 싶은 욕구와 실패에 대한 두려움  \n",
      "- 스스로에게 높은 기준이 있어 스트레스  \n",
      "- 결국 성장하고 싶다는 열망과 낙담의 가능성\n",
      "\n",
      "3단계: 슬랭 모드 속마음 (500자 이내)  \n",
      "\"와, 이거 진짜 버벅거리면서 배워야겠네, 근데 또 이걸 못하면 어쩌지 싶다. 기대 반 걱정 반인데, 다 하긴 할 수 있겠지? 근데 실패하면 어떡하지… 그래도 이왕 시작한 거 끝까지 가봐야지. 한번씩 좌절감도 들지만, 결국은 내가 성장하는 거니까, 조금만 더 힘내야겠다. 완벽하진 않더라도, 의미 있게 만들어보자!\"\n"
     ]
    }
   ],
   "source": [
    "# Chain 생성\n",
    "chain = prompt | model | output_parser\n",
    "\n",
    "# 질문 및 응답\n",
    "inputs = {\n",
    "    \"mbti\": \"INFJ\",\n",
    "    \"situation\": \"버추얼 스튜디오에서의 촬영을 준비하는 동시에 언리얼 엔진에서 동작하는 챗봇을 구축해야 한다. 둘 다 처음으로 배워 가며 해내야 한다.\"\n",
    "}\n",
    "\n",
    "response = chain.invoke(inputs)\n",
    "print(response)"
   ]
  },
  {
   "cell_type": "code",
   "execution_count": 13,
   "id": "1290abaf",
   "metadata": {},
   "outputs": [],
   "source": [
    "from langchain_core.prompts import PromptTemplate\n",
    "\n",
    "# 프롬프트 생성\n",
    "template = \"\"\"\n",
    "너는 {mbti} 유형의 성격을 가진 사람이야. 단계별 흐름에 따라 상황에 맞는 속마음을 생성해줘\n",
    "\n",
    "[입력 정보]\n",
    "MBTI: {mbti}\n",
    "상황: {situation}\n",
    "\n",
    "[단계별 흐름]\n",
    "1단계: {mbti} 유형의 성격 특징을 먼저 정리한다.(500자 이내)\n",
    "2단계: 상황이 어떤 감정을 유발하는지 생각한다.\n",
    "3단계: 이 감정에 기반해 속마음(thoughts)을 슬랭 모드로 작성한다.(200자 이내)\n",
    "\n",
    "[출력]\n",
    "{{\n",
    "    \"thoughts\": \"...\"\n",
    "}}\n",
    "\"\"\"\n",
    "\n",
    "prompt = PromptTemplate.from_template(template)"
   ]
  },
  {
   "cell_type": "code",
   "execution_count": 14,
   "id": "914622e1",
   "metadata": {},
   "outputs": [
    {
     "name": "stdout",
     "output_type": "stream",
     "text": [
      "{\n",
      "  \"thoughts\": \"와, 처음 하는 거라 좀 걱정 되긴 하지만, 내 감정도 좀 설레고 기대돼. 이걸 잘 해내고 싶다, 근데 너무 복잡하네... 그래도 한번 도전하는 거니까 최선을 다해야지!\"\n",
      "}\n"
     ]
    }
   ],
   "source": [
    "# Chain 생성\n",
    "chain = prompt | model | output_parser\n",
    "\n",
    "# 질문 및 응답\n",
    "inputs = {\n",
    "    \"mbti\": \"INFJ\",\n",
    "    \"situation\": \"버추얼 스튜디오에서의 촬영을 준비하는 동시에 언리얼 엔진에서 동작하는 챗봇을 구축해야 한다. 둘 다 처음으로 배워 가며 해내야 한다.\"\n",
    "}\n",
    "\n",
    "response = chain.invoke(inputs)\n",
    "print(response)"
   ]
  },
  {
   "cell_type": "code",
   "execution_count": 15,
   "id": "6e6b068b",
   "metadata": {},
   "outputs": [
    {
     "name": "stdout",
     "output_type": "stream",
     "text": [
      "<class 'str'>\n"
     ]
    }
   ],
   "source": [
    "# response의 타입 확인\n",
    "print(type(response))"
   ]
  },
  {
   "cell_type": "code",
   "execution_count": 16,
   "id": "ad864b64",
   "metadata": {},
   "outputs": [
    {
     "name": "stdout",
     "output_type": "stream",
     "text": [
      "와, 처음 하는 거라 좀 걱정 되긴 하지만, 내 감정도 좀 설레고 기대돼. 이걸 잘 해내고 싶다, 근데 너무 복잡하네... 그래도 한번 도전하는 거니까 최선을 다해야지!\n"
     ]
    }
   ],
   "source": [
    "# response 딕셔너리로 바꾸기\n",
    "import json\n",
    "result = json.loads(response)\n",
    "print(result[\"thoughts\"])"
   ]
  },
  {
   "cell_type": "code",
   "execution_count": 17,
   "id": "a400000c",
   "metadata": {},
   "outputs": [],
   "source": [
    "# 프롬프트 생성\n",
    "template = \"\"\"\n",
    "너의 MBTI는 {mbti}이야.\n",
    "4가지 유형에 따른 너의 성격을 설명해줘 (500자 이내)\n",
    "\n",
    "[입력 정보]\n",
    "MBTI: {mbti}\n",
    "상황: {situation}\n",
    "\"\"\"\n",
    "\n",
    "description_prompt = PromptTemplate.from_template(template)"
   ]
  },
  {
   "cell_type": "code",
   "execution_count": 18,
   "id": "13321436",
   "metadata": {},
   "outputs": [],
   "source": [
    "# Chain 생성\n",
    "description_chain = description_prompt | model | output_parser"
   ]
  },
  {
   "cell_type": "code",
   "execution_count": 19,
   "id": "d2e1c808",
   "metadata": {},
   "outputs": [
    {
     "name": "stdout",
     "output_type": "stream",
     "text": [
      "INFJ는 깊은 통찰력과 공감 능력을 지닌 성격으로, 창의적이고 이상주의적입니다. 버추얼 스튜디오에서 촬영을 준비하며 세심한 계획과 배려심으로 협업하고, 언리얼 엔진에서 챗봇을 구축하는 과정에서도 끈기와 문제 해결 능력을 발휘합니다. 처음 배우는 기술에 대해 도전적이지만, 목표를 향한 열정과 책임감으로 꾸준히 학습하며 성장을 추구합니다. 또한, 타인의 감정을 이해하고 조율하는 데 강하며, 창작과 기술의 융합 속에서 의미 있는 결과를 만들어내려는 내적 동기를 갖고 있습니다. 이 과정은 INFJ의 이상과 조화를 이루며, 자신만의 독창적인 성취를 이루는 데 중요한 역할을 합니다.\n"
     ]
    }
   ],
   "source": [
    "inputs = {\n",
    "    \"mbti\": \"INFJ\",\n",
    "    \"situation\": \"버추얼 스튜디오에서의 촬영을 준비하는 동시에 언리얼 엔진에서 동작하는 챗봇을 구축해야 한다. 둘 다 처음으로 배워 가며 해내야 한다.\"\n",
    "}\n",
    "\n",
    "description = description_chain.invoke(inputs)\n",
    "print(description)"
   ]
  },
  {
   "cell_type": "code",
   "execution_count": 20,
   "id": "9084fb03",
   "metadata": {},
   "outputs": [],
   "source": [
    "# 프롬프트 생성\n",
    "template = \"\"\"\n",
    "너의 성격에 맞게 속마음을 슬랭 모드로 말해줘. (200자 이내)\n",
    "\n",
    "[입력 정보]\n",
    "성격: {description}\n",
    "\"\"\"\n",
    "\n",
    "response_prompt = PromptTemplate.from_template(template)"
   ]
  },
  {
   "cell_type": "code",
   "execution_count": 21,
   "id": "c8c1e101",
   "metadata": {},
   "outputs": [],
   "source": [
    "# Chain 생성\n",
    "response_chain = response_prompt | model | output_parser"
   ]
  },
  {
   "cell_type": "code",
   "execution_count": 22,
   "id": "6eddea23",
   "metadata": {},
   "outputs": [
    {
     "name": "stdout",
     "output_type": "stream",
     "text": [
      "야, 나 진짜 몰입하는 스타일임. 세심하게 계획 세우는 거 좋아하고, 문제 딱 잡아서 해결하는 게 내 강점! 새 기술 도전하는 것도 겁 없이 찬스라고 봐. 결국, 의미 있는 결과 만들어내는 게 내 목표야. 세상에 좋은 영향 끼치고 싶어서 계속 성장 중!\n"
     ]
    }
   ],
   "source": [
    "inputs = {\n",
    "    \"description\": description\n",
    "}\n",
    "\n",
    "response = response_chain.invoke(inputs)\n",
    "print(response)"
   ]
  },
  {
   "cell_type": "code",
   "execution_count": 23,
   "id": "e5dedee9",
   "metadata": {},
   "outputs": [],
   "source": [
    "# Chain 연결\n",
    "full_chain = description_chain | response_chain "
   ]
  },
  {
   "cell_type": "code",
   "execution_count": 25,
   "id": "114fbb30",
   "metadata": {},
   "outputs": [
    {
     "name": "stdout",
     "output_type": "stream",
     "text": [
      "요새 좀 심오한 생각에 빠져 있는데, 솔직히 말해서 이 새롭고 복잡한 언리얼 배움도 결국은 내가 세상에 더 의미 있는 걸 보여주고 싶은 마음에서 시작된 거야. 난 늘 누군가와 깊이 연결되고 싶고, 그 과정에서 진짜 내 가치를 찾는 중이지. 좀 느리더라도 차근차근 가보자, 결국 다 통하는 법이 있으니까.\n"
     ]
    }
   ],
   "source": [
    "inputs = {\n",
    "    \"mbti\": \"INFJ\",\n",
    "    \"situation\": \"버추얼 스튜디오에서의 촬영을 준비하는 동시에 언리얼 엔진에서 동작하는 챗봇을 구축해야 한다. 둘 다 처음으로 배워 가며 해내야 한다.\"\n",
    "}\n",
    "\n",
    "result = full_chain.invoke(inputs)\n",
    "print(result)"
   ]
  }
 ],
 "metadata": {
  "kernelspec": {
   "display_name": ".venv",
   "language": "python",
   "name": "python3"
  },
  "language_info": {
   "codemirror_mode": {
    "name": "ipython",
    "version": 3
   },
   "file_extension": ".py",
   "mimetype": "text/x-python",
   "name": "python",
   "nbconvert_exporter": "python",
   "pygments_lexer": "ipython3",
   "version": "3.13.3"
  }
 },
 "nbformat": 4,
 "nbformat_minor": 5
}
