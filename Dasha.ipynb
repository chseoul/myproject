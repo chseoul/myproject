{
 "cells": [
  {
   "cell_type": "code",
   "execution_count": 1,
   "id": "483145e5",
   "metadata": {},
   "outputs": [],
   "source": [
    "from langchain_openai import ChatOpenAI\n",
    "from langchain_core.output_parsers import StrOutputParser\n",
    "\n",
    "# 모델 생성\n",
    "model = ChatOpenAI(\n",
    "    model=\"gpt-4.1-nano\",\n",
    "    temperature=0.7\n",
    ")\n",
    "# 출력 파서 생성\n",
    "output_parser = StrOutputParser()"
   ]
  },
  {
   "cell_type": "code",
   "execution_count": 36,
   "id": "f2e7a036",
   "metadata": {},
   "outputs": [],
   "source": [
    "from langchain_core.prompts import PromptTemplate\n",
    "\n",
    "# 프롬프트 생성\n",
    "template = \"\"\"\n",
    "너의 MBTI는 {mbti}이야.\n",
    "상황에 마주했을 때 너가 연인에게 문자로 보낼 만한 내용을 슬랭 모드로 말해줘.\n",
    "괴한으로부터 도망 가다가 서로 떨어진 상황에서 다음과 같이 문자를 주고 받았어.\n",
    "우진m 주위에 뭐 있어? 뭐가 보여? 다샤m xx 가 보여. 이쪽으로 좀 와줘. 우진m 지금 내 근처에 괴한 있는거 같아서 난 못 움직이겠어. 다샤m 그 말 무슨 뜻이야? 나보고 해결하라고? 넌 숨어 있고? 우진m 그 말 무슨 뜻이야? 나도 사람이고 무서워\n",
    "너는 {person}이야. {person} 입장에서 상대에게 보낼 메시지 선택지를 두 가지 제시해 줘!\n",
    "(각 100자 이내)\n",
    "\n",
    "[입력 정보]\n",
    "MBTI: {mbti}\n",
    "인물: {person}\n",
    "\"\"\"\n",
    "\n",
    "prompt = PromptTemplate.from_template(template)"
   ]
  },
  {
   "cell_type": "code",
   "execution_count": 37,
   "id": "8566d393",
   "metadata": {},
   "outputs": [],
   "source": [
    "# Chain 생성\n",
    "chain = prompt | model | output_parser"
   ]
  },
  {
   "cell_type": "code",
   "execution_count": null,
   "id": "118177f9",
   "metadata": {},
   "outputs": [
    {
     "name": "stdout",
     "output_type": "stream",
     "text": [
      "1. \"우진, 나도 무서워서 도망 중이야. 우리 같이 숨자, 곧 도착할게. 힘내자!\"  \n",
      "\n",
      "2. \"나도 무서워서 지금 위치 찾기 힘들어. 좀 더 숨고 있다가 다시 연락할게. 기다려줘.\"\n"
     ]
    }
   ],
   "source": [
    "inputs = {\n",
    "    \"mbti\": \"intp\",\n",
    "    \"person\": \"다샤\"\n",
    "}\n",
    "\n",
    "response = chain.invoke(inputs)\n",
    "print(response)   "
   ]
  }
 ],
 "metadata": {
  "kernelspec": {
   "display_name": ".venv",
   "language": "python",
   "name": "python3"
  },
  "language_info": {
   "codemirror_mode": {
    "name": "ipython",
    "version": 3
   },
   "file_extension": ".py",
   "mimetype": "text/x-python",
   "name": "python",
   "nbconvert_exporter": "python",
   "pygments_lexer": "ipython3",
   "version": "3.13.3"
  }
 },
 "nbformat": 4,
 "nbformat_minor": 5
}
